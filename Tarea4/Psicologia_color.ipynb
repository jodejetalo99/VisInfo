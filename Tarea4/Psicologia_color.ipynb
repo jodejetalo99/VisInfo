{
  "nbformat": 4,
  "nbformat_minor": 0,
  "metadata": {
    "colab": {
      "name": "Psicologia_color.ipynb",
      "provenance": [],
      "collapsed_sections": []
    },
    "kernelspec": {
      "name": "python3",
      "display_name": "Python 3"
    }
  },
  "cells": [
    {
      "cell_type": "markdown",
      "metadata": {
        "id": "xORkRQExBH3m",
        "colab_type": "text"
      },
      "source": [
        "# Introducción a la Psicología del color <font>\n",
        "\n",
        "1.   Elemento de la lista\n",
        "2.   Elemento de la lista\n",
        "\n",
        "\n",
        "## Integrantes: \n",
        "\n",
        "*   López Sánchez Misael\n",
        "*   Tapia López José de Jesús\n",
        "\n",
        "## Introducción. \n",
        "\n",
        "En el siguiente documento nos adentraremos a estudiar lo que es la psicología del color, el cual es un área de estudio enfocada en análizar el efecto del **color** en la conducta humana.\n",
        "\n",
        "## Origen de la psicología del color.\n",
        "\n",
        "La historia de la psicología de color tiene una larga historía desde tiempos remotos, existen varios personajes que han sido precursores de la psicología del color como **Aristoteles**, el cual escribío acerca de los colores básicos; **Leonardo da Vinci**, quien clasificó los colores básicos en: amarillo, rojo, azul y verde;  **Isac Newton**, el cual planteo las bases de la teoría luminica del color, por mencionar algunos.\n",
        "\n",
        "___\n",
        " \n"
      ]
    },
    {
      "cell_type": "markdown",
      "metadata": {
        "id": "-tUWMTLCTRnz",
        "colab_type": "text"
      },
      "source": [
        "\n",
        "## Teoría del color de Goethe.\n",
        "\n",
        " [Johann Wolfgang von Goethe](https://es.wikipedia.org/wiki/Johann_Wolfgang_von_Goethe) fue un poeta, novelista, dramaturgo y cientifico alemán contribuyente del romanticismo. \n",
        "\n",
        " Una de sus principales contribuciones ha sido el  intentar deducir las leyes de armonía del color, incluyendo aspectos fisiológicos del tema e intentóó describir cómo es que estos impactan en la subjetividad de la visión.\n",
        "\n",
        " En su libro [Teoría de los colores](https://es.wikipedia.org/wiki/Teoría_de_los_colores) escrito en 1810, describío algunas de las primeras y más precisas descipciones de: \n",
        "\n",
        "\n",
        "*   Sombras coloreadas\n",
        "*   Refraccióón\n",
        "*   Acromatismo/hipercromatismo\n",
        "\n",
        "Goethe consideró que su propia teoría era una explicacióón generalizada de las observaciones de Newton pues consideraba que estos eran observaciones particulares de su teoría.\n",
        "\n",
        "La teoría de Goethe no ha sido aceptada del todo pues algunos fisicos argumentan que se debe de distinguir entre el **espectro óptico** (el cual observó Newton) y el fenómeno de la percepción humana.\n",
        "\n",
        "Existen otras teorias que tienen similitudes con esta, como la teoría de **retinex** de **Edwin Land**\n",
        "\n",
        "\n",
        "___\n",
        "\n"
      ]
    },
    {
      "cell_type": "markdown",
      "metadata": {
        "id": "6qO19B-fZ6UG",
        "colab_type": "text"
      },
      "source": [
        "## Teoría de los colores de Eva Heller.\n",
        "[Eva Heller](https://www.barbarafioreeditora.com/editorial/eva_heller1) fue una socióloga, psicóloga y profesora de teoría de la comunicación y psicología de los colores. Sus obras destacan en diversas publicaciones.\n",
        "\n",
        "Según ella,la realación de los colores sobre los sentimientos y la razón demuestra cómo ambos no se combinan de manera accidental, pues sus relaciones son de tipo de experiencia universales más no de gusto.\n",
        "\n",
        "- **EL color es una herramienta de comunicación útil a lo funcional por ejemplo la estética y la 'belleza' es un ideal cultural cuya herramienta puede ser la estetética. Quién escoge un color para: 'belleza' no piesa necesariamente en el 'color' - Eva Heller**\n",
        "\n",
        "Los estudios de Eva Heller se basan mucho en los estudios que realizó **Goethe** en los cuales ella habla de que la elección de los colores depende principalmente de experiencias culturales, y que cada color incluso puede llegar a identificar culturas, genero, religiones, etc. Pues para ella el color tiene un contexto más profundo que meramente el estético."
      ]
    },
    {
      "cell_type": "markdown",
      "metadata": {
        "id": "IxRnGzplCYam",
        "colab_type": "text"
      },
      "source": [
        "## Lectura de datos desde la pagina de wikipedia: \n",
        "Para la realización de la siguiente aplicación accedemos a los datos que estan almacenados en las tablas de colores en el siguiente link: [psicología_color](https://es.wikipedia.org/wiki/Psicología_del_color)\n",
        "\n"
      ]
    },
    {
      "cell_type": "code",
      "metadata": {
        "id": "lgTw5WlfCUtd",
        "colab_type": "code",
        "colab": {}
      },
      "source": [
        "#Importamos la biblioteca pandas para leer información desde HTML\n",
        "from pandas.io.html import read_html \n",
        "import os"
      ],
      "execution_count": 0,
      "outputs": []
    },
    {
      "cell_type": "markdown",
      "metadata": {
        "id": "x2P3Yfp6Ep7V",
        "colab_type": "text"
      },
      "source": [
        "## Creación de la aplicación.\n",
        "\n",
        "Lo que se realiza a continuación es la implementación de la clase **ColorSent** la cual realiza un pequeño 'test' a los usuarios para que estos puedan descubrir características que los identifican de acuerdo con los colores que elijan.\n",
        "\n",
        "La clase consiste principalmente de dos aplicaciones (métodos): \n",
        "* Aplicación 1 - El usuario descubre la característica que los identifican de acuerdo al color seleccionado.\n",
        "* Aplicación 2 - El usuario descubre el color que mejor se adecua a la característica que el mismo elige.\n"
      ]
    },
    {
      "cell_type": "code",
      "metadata": {
        "id": "pjlzmcIMEnFs",
        "colab_type": "code",
        "colab": {}
      },
      "source": [
        "class ColorSent:\n",
        "    import os\n",
        "    ''' \n",
        "    @author: Misael López Sánchez\n",
        "    @author: José de Jesús Tapia López\n",
        "\n",
        "    @summary: Clase principal la cual sirve para intepretar la característica\n",
        "    central segun el color de preferencia del usuario, o el color según la \n",
        "    característica seleccionada.\n",
        "    '''\n",
        "\n",
        "    #Comandos para dar saltos detro de la aplicación\n",
        "    def menuApp1():\n",
        "\n",
        "        \"\"\"\n",
        "         @summary: Devuelve al usuario la carácteristica que más lo representa deacuerdo al color \n",
        "                   y la tonalidad que eligió a lo largo del programa.\n",
        "         @input: Número del color de su agrado y número de la tonalidad que el usuario elige.\n",
        "         @output: carácteristica que más representa al usuario de acuerdo a los valores que eligio\n",
        "\n",
        "        \"\"\"\n",
        "        '''Menú inicial el cual funciona a manera de introducción al programa '''\n",
        "        print('¡Bienvenido!')\n",
        "        print('Elige una opción de acuerdo a tu color favorito: ')\n",
        "        print('0.- Azul')\n",
        "        print('1.- Rojo')\n",
        "        print('2.- Amarillo')\n",
        "        print('3.- Verde')\n",
        "        print('4.- Negro')\n",
        "        print('5.- Blanco')\n",
        "        print('6.- Naranja')\n",
        "        print('7.- Violeta')\n",
        "        print('8.- Rosa')\n",
        "        print('9.- Oro')\n",
        "        print('10.- Plata')\n",
        "        print('11.- Marrón')\n",
        "        print('12.- Gris')\n",
        "\n",
        "    def applicacion1():\n",
        "\n",
        "        '''\n",
        "         @summary: Aplicación que realiza un test al usuario devolviendole la característica \n",
        "                   que más lo representa conforme a los parametros que va eligiendo.\n",
        "         @input: El usuario elige un color favorito y una tonalidad favorita.\n",
        "         @output: El usuario recibe el resultado del color que más lo representa de acuerdo a \n",
        "                  los valores que escogió.\n",
        "        '''\n",
        "        #from pandas.io.html import read_html\n",
        "        import pandas.io.html as pd\n",
        "        import matplotlib.pyplot as plt\n",
        "        import pandas as pd2\n",
        "        \n",
        "        #Primero leemos las tablas desde wikipedia.\n",
        "        page = 'https://es.wikipedia.org/wiki/Psicolog%C3%ADa_del_color'\n",
        "        wikitables = pd.read_html(page, index_col=0, attrs={\"class\":\"wikitable\"})\n",
        "\n",
        "\n",
        "        ColorSent.menuApp1()\n",
        "        op_menu = int(input(\"Ingrese una opción >> \"))\n",
        "        colores = wikitables[op_menu]\n",
        "\n",
        "        # Graficamos los colores para que el usuario pueda elegir uno y \n",
        "        # con base al que eligió, le digamos su sentimiento\n",
        "\n",
        "        #Creamos lista con los codigos Hexadecimales\n",
        "        mis_hex = []\n",
        "        for i in range(0,len(colores)):\n",
        "            color = colores['Cod. Hex.'][i]\n",
        "            mis_hex.append(color)\n",
        "\n",
        "        print(\"Mira los colores atentamente...\")\n",
        "        # Creamos 25 subgráficas con 25 opciones para que el usuario pueda elegir uno\n",
        "        # En caso de que el usuario haya seleccionado un color con pocas opciones,\n",
        "        # dejamos las demás subgráficas en blanco\n",
        "\n",
        "        fig, axs = plt.subplots(5,5, facecolor ='#FFFFFF')\n",
        "        plt.tight_layout()\n",
        "        try:\n",
        "          for i in range(0,5):\n",
        "            for j in range(0,5):\n",
        "              if 5*i+j < len(colores):\n",
        "                axs[i][j].set_title(str(5*i+j+1))\n",
        "                axs[i][j].set_facecolor(mis_hex[5*i+j])\n",
        "              else:\n",
        "                # Como la indexación la empezamos en uno y no en cero, hacemos esto para \n",
        "                # que al colocar la opción, no pongamos un titulo extra\n",
        "                axs[i][j].set_title('')\n",
        "              \n",
        "        except IndexError:\n",
        "          print()\n",
        "        plt.show()    \n",
        "\n",
        "        # Convetimos a un objeto DataFrame para poder leer los archivos de forma más eficiente.\n",
        "        datos = pd2.DataFrame(colores)\n",
        "\n",
        "        # Pedimos al usuario que ingrese una opción y el programa por default le devolverá \n",
        "        # la característica que expresa el color que eligió.\n",
        "        n = int(input(\"Selecciona una opción >> \"))\n",
        "\n",
        "\n",
        "        print(\"La característica que mejor se relaciona con el color que elegiste fue: \")\n",
        "     \n",
        "        return(datos.iloc[n-1:n])\n",
        "        \n",
        "\n",
        "    def applicacion2():\n",
        "\n",
        "        '''\n",
        "         @summary: Applicación que realiza un 'test' al usuario y le retorna el color y su \n",
        "                   respectivo código Hexadecimal que corresponde de acuerdo a la característica \n",
        "                   que él mismo elige.\n",
        "         \n",
        "         @input: El usuario, de una lista, elige dos características e ingresa los números de \n",
        "                 esas dos carácteristicas.\n",
        "         @output: El usuario recibe en una gráfica los dos colores que van de acuerdo a las \n",
        "                  características que eligió, así como los códigos Hexadecimales de cada uno.\n",
        "                   \n",
        "        '''\n",
        "\n",
        "        #Importamos las bibliotecas necesarias para la realización de esta función\n",
        "        import pandas.io.html as pd\n",
        "        import pandas as pd2\n",
        "        import numpy as np\n",
        "        import matplotlib.pyplot as plt\n",
        "\n",
        "\n",
        "        # Leeemos de nuevo la tabla wikitables, pero ahora inicializamos con un indice diferente \n",
        "        # para tomar como identificador al RGB como índice para que la columna nombres esté disponible\n",
        "        page = 'https://es.wikipedia.org/wiki/Psicolog%C3%ADa_del_color'\n",
        "        wikitables = pd.read_html(page, index_col=3, attrs={\"class\":\"wikitable\"})\n",
        "\n",
        "        print(\"Observa la siguiente lista de características y elige con cual te sientas identificado: \")\n",
        "\n",
        "        #Concatenamos dos tablas aleatorias para así dar al usuario una gama de donde poder elegir un sentimiento,\n",
        "        # NOTA: Decidimos no poner todos las características porque son más de 100, solo ponemos una muestra\n",
        "        sentimientos_1 = pd2.DataFrame(wikitables[int(np.random.choice(11,1))])\n",
        "        sentimientos_2 = pd2.DataFrame(wikitables[int(np.random.choice(11,1))])\n",
        "\n",
        "        #Concatenemos los nombres de los sentimientos de ambas tablas para dar opciones al usaurio\n",
        "        tabla_sentimientos = pd2.concat([sentimientos_1['Nombre'],sentimientos_2['Nombre']])\n",
        "        tabla_sentimientos = pd2.DataFrame(tabla_sentimientos)\n",
        "\n",
        "        #Creamos un indice a la tabla de sentimientos para que el usuario le sea más fácil identificar un sentimiento\n",
        "        tabla_sentimientos['Indice'] = list(np.arange(0,len(tabla_sentimientos)))\n",
        "        \n",
        "        #Cambiamos los nombres de las columnas\n",
        "        tabla_sentimientos.columns = ['Características', 'Index']\n",
        "        \n",
        "        #Presentamos la lista de sentimientos al usuario\n",
        "        print(tabla_sentimientos)\n",
        "\n",
        "        a = int(input('Introduzca un número >> '))\n",
        "        b = int(input('Introduzca un segundo número >> '))\n",
        "\n",
        "        print(\"Los siguientes colores corresponden mejor con tu personalidad: \")\n",
        "\n",
        "      \n",
        "        tabla_cod_hex = pd2.concat([sentimientos_1['Cod. Hex.'],sentimientos_2['Cod. Hex.']])\n",
        "        tabla_cod_hex = pd2.DataFrame(tabla_cod_hex)\n",
        "\n",
        "        # Creamos los gráficos con los colores seleccionados por el usuario\n",
        "\n",
        "        fig, ((ax1,ax2)) = plt.subplots(2,1, facecolor = '#FFFFFF')\n",
        "        plt.tight_layout()\n",
        "\n",
        "        ax1.set_facecolor(tabla_cod_hex.iloc[a,0])\n",
        "        ax1.set_title(tabla_cod_hex.iloc[a,0])\n",
        "\n",
        "        ax2.set_facecolor(tabla_cod_hex.iloc[b,0])\n",
        "        ax2.set_title(tabla_cod_hex.iloc[b,0])\n",
        "                      \n",
        "        plt.show()\n",
        "\n",
        "        return(None)\n",
        "\n"
      ],
      "execution_count": 0,
      "outputs": []
    },
    {
      "cell_type": "markdown",
      "metadata": {
        "id": "OMUUb37tA2Yc",
        "colab_type": "text"
      },
      "source": [
        "## Aplicación 2\n",
        "En esta aplicación al usuario se le presenta una lista de carácteristicas y este debe de eligir dos de ellas que siente que más lo representa, y acambio este rebibe por consola los colores que lo representan, así como el código Hexadecimal del color que le corresponde.\n",
        "\n"
      ]
    },
    {
      "cell_type": "code",
      "metadata": {
        "id": "pZTjKqzpfyhj",
        "colab_type": "code",
        "outputId": "a4c4f6df-bab3-48ae-824c-2aca0a6c3ed8",
        "colab": {
          "base_uri": "https://localhost:8080/",
          "height": 882
        }
      },
      "source": [
        "ColorSent.applicacion2()"
      ],
      "execution_count": 2,
      "outputs": [
        {
          "output_type": "stream",
          "text": [
            "Observa la siguiente lista de características y elige con cual te sientas identificado: \n",
            "               Características  Index\n",
            "RGB                                  \n",
            "165                  Agradable      0\n",
            "177                 Tolerancia      1\n",
            "140                    Natural      2\n",
            "153                      Vivaz      3\n",
            "137                       Sano      4\n",
            "139                  Primavera      5\n",
            "149       Refrescante y fresco      6\n",
            "203                   Juventud      7\n",
            "196                    Egoísmo      8\n",
            "112  Esperanza en la confianza      9\n",
            "135                   Venenoso     10\n",
            "134              Tranqulizador     11\n",
            "151               Recogimiento     12\n",
            "201                 Triangular     13\n",
            "157     Confianza en lo seguro     14\n",
            "93                   Primavera     15\n",
            "183             Fresco, verano     16\n",
            "194                      Otoño     17\n",
            "213                   Invierno     18\n",
            "208                  Felicidad     19\n",
            "216                    Orgullo     20\n",
            "215                     Mérito     21\n",
            "228            Pompa (funeral)     22\n",
            "230                    Belleza     23\n",
            "209                 Solemnidad     24\n",
            "207                       Lujo     25\n",
            "228             Presuntuosidad     26\n",
            "Introduzca un número >> 23\n",
            "Introduzca un segundo número >> 20\n",
            "Los siguientes colores corresponden mejor con tu personalidad: \n"
          ],
          "name": "stdout"
        },
        {
          "output_type": "display_data",
          "data": {
            "image/png": "[encoded data removed]",
            "text/plain": [
              "<Figure size 432x288 with 2 Axes>"
            ]
          },
          "metadata": {
            "tags": []
          }
        }
      ]
    },
    {
      "cell_type": "markdown",
      "metadata": {
        "id": "A_i2YFdqBx-m",
        "colab_type": "text"
      },
      "source": [
        "## Aplicación 1 <font>\n",
        "\n",
        "En la aplicación 1 el usuario primero debe de elegir un color el cual sea más de su preferencia, después se le presenta en una imagen todas las tonalidades de ese color disponibles y ordenadas para que el usuario pueda escoger algúna tonalidad que sea de su preferencia. Una vez escogida una tonalidad entonces al usuario se le devuelve la carácteristica que más lo representa deacuerdo a la tonalidad que él escogio."
      ]
    },
    {
      "cell_type": "code",
      "metadata": {
        "id": "NkHo8kCYf4nR",
        "colab_type": "code",
        "outputId": "3d30634a-524f-4d06-9898-915f1d3990ff",
        "colab": {
          "base_uri": "https://localhost:8080/",
          "height": 734
        }
      },
      "source": [
        "ColorSent.applicacion1()"
      ],
      "execution_count": 0,
      "outputs": [
        {
          "output_type": "stream",
          "text": [
            "¡Bienvenido!\n",
            "Elige una opción de acuerdo a tu color favorito: \n",
            "0.- Azul\n",
            "1.- Rojo\n",
            "2.- Amarillo\n",
            "3.- Verde\n",
            "4.- Negro\n",
            "5.- Blanco\n",
            "6.- Naranja\n",
            "7.- Violeta\n",
            "8.- Rosa\n",
            "9.- oro\n",
            "10.- Plata\n",
            "11.- Marrón\n",
            "12.- Gris\n",
            "Ingrese una opción >> 3\n",
            "Mira los colores atentamente...\n"
          ],
          "name": "stdout"
        },
        {
          "output_type": "display_data",
          "data": {
            "image/png": "[encoded data removed]",
            "text/plain": [
              "<Figure size 432x288 with 25 Axes>"
            ]
          },
          "metadata": {
            "tags": []
          }
        },
        {
          "output_type": "stream",
          "text": [
            "Selecciona una opción >> 10\n",
            "La característica que mejor se relaciona con el color que elegiste fue: \n"
          ],
          "name": "stdout"
        },
        {
          "output_type": "execute_result",
          "data": {
            "text/html": [
              "<div>\n",
              "<style scoped>\n",
              "    .dataframe tbody tr th:only-of-type {\n",
              "        vertical-align: middle;\n",
              "    }\n",
              "\n",
              "    .dataframe tbody tr th {\n",
              "        vertical-align: top;\n",
              "    }\n",
              "\n",
              "    .dataframe thead th {\n",
              "        text-align: right;\n",
              "    }\n",
              "</style>\n",
              "<table border=\"1\" class=\"dataframe\">\n",
              "  <thead>\n",
              "    <tr style=\"text-align: right;\">\n",
              "      <th></th>\n",
              "      <th>Muestra</th>\n",
              "      <th>Cod. Hex.</th>\n",
              "      <th>RGB</th>\n",
              "      <th>RGB.1</th>\n",
              "      <th>RGB.2</th>\n",
              "      <th>HSV</th>\n",
              "      <th>HSV.1</th>\n",
              "      <th>HSV.2</th>\n",
              "    </tr>\n",
              "    <tr>\n",
              "      <th>Nombre</th>\n",
              "      <th></th>\n",
              "      <th></th>\n",
              "      <th></th>\n",
              "      <th></th>\n",
              "      <th></th>\n",
              "      <th></th>\n",
              "      <th></th>\n",
              "      <th></th>\n",
              "    </tr>\n",
              "  </thead>\n",
              "  <tbody>\n",
              "    <tr>\n",
              "      <th>Esperanza en la confianza</th>\n",
              "      <td>NaN</td>\n",
              "      <td>#70B18F</td>\n",
              "      <td>112</td>\n",
              "      <td>177</td>\n",
              "      <td>143</td>\n",
              "      <td>149°</td>\n",
              "      <td>37%</td>\n",
              "      <td>69%</td>\n",
              "    </tr>\n",
              "  </tbody>\n",
              "</table>\n",
              "</div>"
            ],
            "text/plain": [
              "                           Muestra Cod. Hex.  RGB  ...   HSV  HSV.1 HSV.2\n",
              "Nombre                                             ...                   \n",
              "Esperanza en la confianza      NaN   #70B18F  112  ...  149°    37%   69%\n",
              "\n",
              "[1 rows x 8 columns]"
            ]
          },
          "metadata": {
            "tags": []
          },
          "execution_count": 5
        }
      ]
    },
    {
      "cell_type": "markdown",
      "metadata": {
        "id": "VXRBc75ICyT2",
        "colab_type": "text"
      },
      "source": [
        "\n",
        "\n",
        "---\n",
        "\n",
        "\n",
        "\n",
        "---\n",
        "\n"
      ]
    }
  ]
}