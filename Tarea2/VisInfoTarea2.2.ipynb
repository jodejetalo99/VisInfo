{
 "cells": [
  {
   "cell_type": "markdown",
   "metadata": {},
   "source": [
    "# Tarea 2"
   ]
  },
  {
   "cell_type": "markdown",
   "metadata": {},
   "source": [
    "Con base en la tabla de datos mostrada en la diapositiva 4 de la presentación Introducción a la Visualización, realizar lo siguiente:"
   ]
  },
  {
   "cell_type": "markdown",
   "metadata": {},
   "source": [
    "1. Encontrar el valor atípico y explicar por qué se considera un valor extraño."
   ]
  },
  {
   "cell_type": "markdown",
   "metadata": {},
   "source": [
    "El valor que puede considerarse atípico es el de la primera fila (debajo de las columnas) que indica que el proceso 1 toma tiempo de 29278 segundos, ya que es una observación que numéricamente es muy distante al resto de los datos, es decir, está muy alejado de los demás datos. "
   ]
  },
  {
   "cell_type": "markdown",
   "metadata": {},
   "source": [
    "2. Crear un archivo de esos datos en el formato CSV y leerlo en un Dataframe de Pandas."
   ]
  },
  {
   "cell_type": "markdown",
   "metadata": {},
   "source": [
    "Creamos el archivo y lo leemos:"
   ]
  },
  {
   "cell_type": "code",
   "execution_count": 1,
   "metadata": {},
   "outputs": [
    {
     "data": {
      "text/html": [
       "<div>\n",
       "<style scoped>\n",
       "    .dataframe tbody tr th:only-of-type {\n",
       "        vertical-align: middle;\n",
       "    }\n",
       "\n",
       "    .dataframe tbody tr th {\n",
       "        vertical-align: top;\n",
       "    }\n",
       "\n",
       "    .dataframe thead th {\n",
       "        text-align: right;\n",
       "    }\n",
       "</style>\n",
       "<table border=\"1\" class=\"dataframe\">\n",
       "  <thead>\n",
       "    <tr style=\"text-align: right;\">\n",
       "      <th></th>\n",
       "      <th>Proc.</th>\n",
       "      <th>Time [s]</th>\n",
       "    </tr>\n",
       "  </thead>\n",
       "  <tbody>\n",
       "    <tr>\n",
       "      <th>0</th>\n",
       "      <td>1</td>\n",
       "      <td>29278</td>\n",
       "    </tr>\n",
       "    <tr>\n",
       "      <th>1</th>\n",
       "      <td>16</td>\n",
       "      <td>178</td>\n",
       "    </tr>\n",
       "    <tr>\n",
       "      <th>2</th>\n",
       "      <td>25</td>\n",
       "      <td>78</td>\n",
       "    </tr>\n",
       "    <tr>\n",
       "      <th>3</th>\n",
       "      <td>64</td>\n",
       "      <td>16</td>\n",
       "    </tr>\n",
       "    <tr>\n",
       "      <th>4</th>\n",
       "      <td>256</td>\n",
       "      <td>2</td>\n",
       "    </tr>\n",
       "    <tr>\n",
       "      <th>5</th>\n",
       "      <td>400</td>\n",
       "      <td>1</td>\n",
       "    </tr>\n",
       "  </tbody>\n",
       "</table>\n",
       "</div>"
      ],
      "text/plain": [
       "   Proc.  Time [s]\n",
       "0      1     29278\n",
       "1     16       178\n",
       "2     25        78\n",
       "3     64        16\n",
       "4    256         2\n",
       "5    400         1"
      ]
     },
     "execution_count": 1,
     "metadata": {},
     "output_type": "execute_result"
    }
   ],
   "source": [
    "import pandas as pd\n",
    "\n",
    "datos = pd.read_csv(\"Tarea2.csv\")\n",
    "datos.head(6)"
   ]
  },
  {
   "cell_type": "code",
   "execution_count": 2,
   "metadata": {},
   "outputs": [
    {
     "name": "stdout",
     "output_type": "stream",
     "text": [
      "<class 'pandas.core.frame.DataFrame'>\n"
     ]
    }
   ],
   "source": [
    "print(type(datos))"
   ]
  },
  {
   "cell_type": "markdown",
   "metadata": {},
   "source": [
    "3. Completar las columnas de Speedup, Efficiency y Cost usando las fórmulas mostradas en la diapositiva 6, tanto para el caso absoluto como para el caso relativo con p' = 16. Agregar estos datos al dataframe antes creado y realizar los gráficos correspondientes usando Matplotlib."
   ]
  },
  {
   "cell_type": "code",
   "execution_count": 3,
   "metadata": {},
   "outputs": [],
   "source": [
    "datos['Speedup'] = datos['Time [s]'][0]/datos['Time [s]']\n",
    "datos['Efficiency'] = datos['Speedup'] / datos['Proc.']\n",
    "datos['Cost'] = datos['Proc.'] * datos['Time [s]']\n",
    "\n",
    "p_prima = 16\n",
    "datos['Rel Speedup'] = 178/datos['Time [s]']\n",
    "datos['Rel Efficiency'] = p_prima * datos['Rel Speedup'] / datos['Proc.']\n",
    "datos['Rel Speedup Max'] = datos['Proc.'] / p_prima"
   ]
  },
  {
   "cell_type": "code",
   "execution_count": 4,
   "metadata": {},
   "outputs": [
    {
     "data": {
      "text/html": [
       "<div>\n",
       "<style scoped>\n",
       "    .dataframe tbody tr th:only-of-type {\n",
       "        vertical-align: middle;\n",
       "    }\n",
       "\n",
       "    .dataframe tbody tr th {\n",
       "        vertical-align: top;\n",
       "    }\n",
       "\n",
       "    .dataframe thead th {\n",
       "        text-align: right;\n",
       "    }\n",
       "</style>\n",
       "<table border=\"1\" class=\"dataframe\">\n",
       "  <thead>\n",
       "    <tr style=\"text-align: right;\">\n",
       "      <th></th>\n",
       "      <th>Proc.</th>\n",
       "      <th>Time [s]</th>\n",
       "      <th>Speedup</th>\n",
       "      <th>Efficiency</th>\n",
       "      <th>Cost</th>\n",
       "      <th>Rel Speedup</th>\n",
       "      <th>Rel Efficiency</th>\n",
       "      <th>Rel Speedup Max</th>\n",
       "    </tr>\n",
       "  </thead>\n",
       "  <tbody>\n",
       "    <tr>\n",
       "      <th>0</th>\n",
       "      <td>1</td>\n",
       "      <td>29278</td>\n",
       "      <td>1.000000</td>\n",
       "      <td>1.000000</td>\n",
       "      <td>29278</td>\n",
       "      <td>0.006080</td>\n",
       "      <td>0.097274</td>\n",
       "      <td>0.0625</td>\n",
       "    </tr>\n",
       "    <tr>\n",
       "      <th>1</th>\n",
       "      <td>16</td>\n",
       "      <td>178</td>\n",
       "      <td>164.483146</td>\n",
       "      <td>10.280197</td>\n",
       "      <td>2848</td>\n",
       "      <td>1.000000</td>\n",
       "      <td>1.000000</td>\n",
       "      <td>1.0000</td>\n",
       "    </tr>\n",
       "    <tr>\n",
       "      <th>2</th>\n",
       "      <td>25</td>\n",
       "      <td>78</td>\n",
       "      <td>375.358974</td>\n",
       "      <td>15.014359</td>\n",
       "      <td>1950</td>\n",
       "      <td>2.282051</td>\n",
       "      <td>1.460513</td>\n",
       "      <td>1.5625</td>\n",
       "    </tr>\n",
       "    <tr>\n",
       "      <th>3</th>\n",
       "      <td>64</td>\n",
       "      <td>16</td>\n",
       "      <td>1829.875000</td>\n",
       "      <td>28.591797</td>\n",
       "      <td>1024</td>\n",
       "      <td>11.125000</td>\n",
       "      <td>2.781250</td>\n",
       "      <td>4.0000</td>\n",
       "    </tr>\n",
       "    <tr>\n",
       "      <th>4</th>\n",
       "      <td>256</td>\n",
       "      <td>2</td>\n",
       "      <td>14639.000000</td>\n",
       "      <td>57.183594</td>\n",
       "      <td>512</td>\n",
       "      <td>89.000000</td>\n",
       "      <td>5.562500</td>\n",
       "      <td>16.0000</td>\n",
       "    </tr>\n",
       "    <tr>\n",
       "      <th>5</th>\n",
       "      <td>400</td>\n",
       "      <td>1</td>\n",
       "      <td>29278.000000</td>\n",
       "      <td>73.195000</td>\n",
       "      <td>400</td>\n",
       "      <td>178.000000</td>\n",
       "      <td>7.120000</td>\n",
       "      <td>25.0000</td>\n",
       "    </tr>\n",
       "  </tbody>\n",
       "</table>\n",
       "</div>"
      ],
      "text/plain": [
       "   Proc.  Time [s]       Speedup  Efficiency   Cost  Rel Speedup  \\\n",
       "0      1     29278      1.000000    1.000000  29278     0.006080   \n",
       "1     16       178    164.483146   10.280197   2848     1.000000   \n",
       "2     25        78    375.358974   15.014359   1950     2.282051   \n",
       "3     64        16   1829.875000   28.591797   1024    11.125000   \n",
       "4    256         2  14639.000000   57.183594    512    89.000000   \n",
       "5    400         1  29278.000000   73.195000    400   178.000000   \n",
       "\n",
       "   Rel Efficiency  Rel Speedup Max  \n",
       "0        0.097274           0.0625  \n",
       "1        1.000000           1.0000  \n",
       "2        1.460513           1.5625  \n",
       "3        2.781250           4.0000  \n",
       "4        5.562500          16.0000  \n",
       "5        7.120000          25.0000  "
      ]
     },
     "execution_count": 4,
     "metadata": {},
     "output_type": "execute_result"
    }
   ],
   "source": [
    "datos.head(6)"
   ]
  },
  {
   "cell_type": "markdown",
   "metadata": {},
   "source": [
    "## Análisis absoluto"
   ]
  },
  {
   "cell_type": "code",
   "execution_count": 6,
   "metadata": {},
   "outputs": [
    {
     "data": {
      "image/png": "[encoded data removed]",
      "text/plain": [
       "<Figure size 432x288 with 1 Axes>"
      ]
     },
     "metadata": {
      "needs_background": "light"
     },
     "output_type": "display_data"
    }
   ],
   "source": [
    "import matplotlib.pyplot as plt\n",
    "import numpy as np\n",
    "\n",
    "x = np.arange(0,400,1)\n",
    "\n",
    "plt.plot(datos['Proc.'], datos['Speedup'], 'o-', x,  '-')\n",
    "plt.title('Speedup')\n",
    "plt.legend(('DVS', 'Linear'),loc='upper left')\n",
    "plt.grid()\n",
    "plt.show()"
   ]
  },
  {
   "cell_type": "code",
   "execution_count": 7,
   "metadata": {},
   "outputs": [
    {
     "data": {
      "image/png": "[encoded data removed]",
      "text/plain": [
       "<Figure size 432x288 with 1 Axes>"
      ]
     },
     "metadata": {
      "needs_background": "light"
     },
     "output_type": "display_data"
    }
   ],
   "source": [
    "y = []\n",
    "for i in range(400):\n",
    "    y.append(1)\n",
    "plt.plot(datos['Proc.'], datos['Efficiency'], 'o-', x,y, '-')\n",
    "plt.title('Efficiency')\n",
    "plt.legend(('DVS', 'Max Efficiency'),loc='upper left')\n",
    "plt.grid()\n",
    "plt.show()"
   ]
  },
  {
   "cell_type": "code",
   "execution_count": 8,
   "metadata": {},
   "outputs": [],
   "source": [
    "#plt.plot(datos['Proc.'], datos['Cost'], 'o-')\n",
    "#plt.title('Cost')\n",
    "#plt.show()"
   ]
  },
  {
   "cell_type": "markdown",
   "metadata": {},
   "source": [
    "## Análisis relativo"
   ]
  },
  {
   "cell_type": "code",
   "execution_count": 9,
   "metadata": {},
   "outputs": [
    {
     "data": {
      "image/png": "[encoded data removed]",
      "text/plain": [
       "<Figure size 432x288 with 1 Axes>"
      ]
     },
     "metadata": {
      "needs_background": "light"
     },
     "output_type": "display_data"
    }
   ],
   "source": [
    "plt.plot(datos['Proc.'], datos['Rel Speedup'], 'o-', x,  '-', datos['Proc.'], datos['Rel Speedup Max'], '-')\n",
    "plt.title('Relative Speedup')\n",
    "plt.legend(('DVS', 'Linear', 'S$p\\'$ Max'),loc='upper left')\n",
    "plt.grid()\n",
    "plt.show()"
   ]
  },
  {
   "cell_type": "code",
   "execution_count": 11,
   "metadata": {},
   "outputs": [
    {
     "data": {
      "image/png": "[encoded data removed]",
      "text/plain": [
       "<Figure size 432x288 with 1 Axes>"
      ]
     },
     "metadata": {
      "needs_background": "light"
     },
     "output_type": "display_data"
    }
   ],
   "source": [
    "plt.plot(datos['Proc.'][1:6], datos['Rel Efficiency'][1:6], 'o-',x,y, '-')\n",
    "plt.title('Relative Efficiency')\n",
    "plt.legend(('DVS', 'Max Efficiency'),loc='upper left')\n",
    "plt.grid()\n",
    "plt.show()"
   ]
  },
  {
   "cell_type": "markdown",
   "metadata": {},
   "source": [
    "4. Generar información similar al punto 2, sustituyendo el valor atípico por el valor mostrado en la diapositiva 9.  Agregar estos datos al dataframe antes creado y realizar los gráficos correspondientes usando Matplotlib."
   ]
  },
  {
   "cell_type": "code",
   "execution_count": 12,
   "metadata": {},
   "outputs": [
    {
     "name": "stderr",
     "output_type": "stream",
     "text": [
      "/home/jodejetalo99/anaconda3/lib/python3.7/site-packages/ipykernel_launcher.py:2: SettingWithCopyWarning: \n",
      "A value is trying to be set on a copy of a slice from a DataFrame\n",
      "\n",
      "See the caveats in the documentation: http://pandas.pydata.org/pandas-docs/stable/indexing.html#indexing-view-versus-copy\n",
      "  \n"
     ]
    }
   ],
   "source": [
    "# Sustituyemos el valor atípico por Time = 430 [s], con 1 procesador.\n",
    "datos['Time [s]'][0] = 430"
   ]
  },
  {
   "cell_type": "code",
   "execution_count": 13,
   "metadata": {},
   "outputs": [],
   "source": [
    "datos['Speedup'] = datos['Time [s]'][0]/datos['Time [s]']\n",
    "datos['Efficiency'] = datos['Speedup'] / datos['Proc.']\n",
    "datos['Cost'] = datos['Proc.'] * datos['Time [s]']\n",
    "\n",
    "p_prima = 16\n",
    "datos['Rel Speedup'] = 178/datos['Time [s]']\n",
    "datos['Rel Efficiency'] = p_prima * datos['Rel Speedup'] / datos['Proc.']\n",
    "datos['Rel Speedup Max'] = datos['Proc.'] / p_prima"
   ]
  },
  {
   "cell_type": "code",
   "execution_count": 14,
   "metadata": {},
   "outputs": [
    {
     "data": {
      "text/html": [
       "<div>\n",
       "<style scoped>\n",
       "    .dataframe tbody tr th:only-of-type {\n",
       "        vertical-align: middle;\n",
       "    }\n",
       "\n",
       "    .dataframe tbody tr th {\n",
       "        vertical-align: top;\n",
       "    }\n",
       "\n",
       "    .dataframe thead th {\n",
       "        text-align: right;\n",
       "    }\n",
       "</style>\n",
       "<table border=\"1\" class=\"dataframe\">\n",
       "  <thead>\n",
       "    <tr style=\"text-align: right;\">\n",
       "      <th></th>\n",
       "      <th>Proc.</th>\n",
       "      <th>Time [s]</th>\n",
       "      <th>Speedup</th>\n",
       "      <th>Efficiency</th>\n",
       "      <th>Cost</th>\n",
       "      <th>Rel Speedup</th>\n",
       "      <th>Rel Efficiency</th>\n",
       "      <th>Rel Speedup Max</th>\n",
       "    </tr>\n",
       "  </thead>\n",
       "  <tbody>\n",
       "    <tr>\n",
       "      <th>0</th>\n",
       "      <td>1</td>\n",
       "      <td>430</td>\n",
       "      <td>1.000000</td>\n",
       "      <td>1.000000</td>\n",
       "      <td>430</td>\n",
       "      <td>0.413953</td>\n",
       "      <td>6.623256</td>\n",
       "      <td>0.0625</td>\n",
       "    </tr>\n",
       "    <tr>\n",
       "      <th>1</th>\n",
       "      <td>16</td>\n",
       "      <td>178</td>\n",
       "      <td>2.415730</td>\n",
       "      <td>0.150983</td>\n",
       "      <td>2848</td>\n",
       "      <td>1.000000</td>\n",
       "      <td>1.000000</td>\n",
       "      <td>1.0000</td>\n",
       "    </tr>\n",
       "    <tr>\n",
       "      <th>2</th>\n",
       "      <td>25</td>\n",
       "      <td>78</td>\n",
       "      <td>5.512821</td>\n",
       "      <td>0.220513</td>\n",
       "      <td>1950</td>\n",
       "      <td>2.282051</td>\n",
       "      <td>1.460513</td>\n",
       "      <td>1.5625</td>\n",
       "    </tr>\n",
       "    <tr>\n",
       "      <th>3</th>\n",
       "      <td>64</td>\n",
       "      <td>16</td>\n",
       "      <td>26.875000</td>\n",
       "      <td>0.419922</td>\n",
       "      <td>1024</td>\n",
       "      <td>11.125000</td>\n",
       "      <td>2.781250</td>\n",
       "      <td>4.0000</td>\n",
       "    </tr>\n",
       "    <tr>\n",
       "      <th>4</th>\n",
       "      <td>256</td>\n",
       "      <td>2</td>\n",
       "      <td>215.000000</td>\n",
       "      <td>0.839844</td>\n",
       "      <td>512</td>\n",
       "      <td>89.000000</td>\n",
       "      <td>5.562500</td>\n",
       "      <td>16.0000</td>\n",
       "    </tr>\n",
       "    <tr>\n",
       "      <th>5</th>\n",
       "      <td>400</td>\n",
       "      <td>1</td>\n",
       "      <td>430.000000</td>\n",
       "      <td>1.075000</td>\n",
       "      <td>400</td>\n",
       "      <td>178.000000</td>\n",
       "      <td>7.120000</td>\n",
       "      <td>25.0000</td>\n",
       "    </tr>\n",
       "  </tbody>\n",
       "</table>\n",
       "</div>"
      ],
      "text/plain": [
       "   Proc.  Time [s]     Speedup  Efficiency  Cost  Rel Speedup  Rel Efficiency  \\\n",
       "0      1       430    1.000000    1.000000   430     0.413953        6.623256   \n",
       "1     16       178    2.415730    0.150983  2848     1.000000        1.000000   \n",
       "2     25        78    5.512821    0.220513  1950     2.282051        1.460513   \n",
       "3     64        16   26.875000    0.419922  1024    11.125000        2.781250   \n",
       "4    256         2  215.000000    0.839844   512    89.000000        5.562500   \n",
       "5    400         1  430.000000    1.075000   400   178.000000        7.120000   \n",
       "\n",
       "   Rel Speedup Max  \n",
       "0           0.0625  \n",
       "1           1.0000  \n",
       "2           1.5625  \n",
       "3           4.0000  \n",
       "4          16.0000  \n",
       "5          25.0000  "
      ]
     },
     "execution_count": 14,
     "metadata": {},
     "output_type": "execute_result"
    }
   ],
   "source": [
    "# Verificamos que se haya modificado en el data frame\n",
    "datos.head(6)"
   ]
  },
  {
   "cell_type": "markdown",
   "metadata": {},
   "source": [
    "Realizamos las gráficas correspondientes:"
   ]
  },
  {
   "cell_type": "code",
   "execution_count": 15,
   "metadata": {},
   "outputs": [
    {
     "data": {
      "image/png": "[encoded data removed]",
      "text/plain": [
       "<Figure size 432x288 with 1 Axes>"
      ]
     },
     "metadata": {
      "needs_background": "light"
     },
     "output_type": "display_data"
    }
   ],
   "source": [
    "plt.plot(datos['Proc.'], datos['Speedup'], 'o-', x,  '-')\n",
    "plt.title('Speedup')\n",
    "plt.legend(('DVS', 'Linear'),loc='upper left')\n",
    "plt.grid()\n",
    "plt.show()"
   ]
  },
  {
   "cell_type": "code",
   "execution_count": 16,
   "metadata": {},
   "outputs": [
    {
     "data": {
      "image/png": "[encoded data removed]",
      "text/plain": [
       "<Figure size 432x288 with 1 Axes>"
      ]
     },
     "metadata": {
      "needs_background": "light"
     },
     "output_type": "display_data"
    }
   ],
   "source": [
    "# Revisar Max Efficiency\n",
    "plt.plot(datos['Proc.'], datos['Efficiency'], 'o-', x, y, '-')\n",
    "plt.title('Efficiency')\n",
    "plt.legend(('DVS', 'Max Efficiency'),loc='upper left')\n",
    "plt.grid()\n",
    "plt.show()"
   ]
  },
  {
   "cell_type": "markdown",
   "metadata": {},
   "source": [
    "5. Contar la historia del análisis de esta información usando gráficos que resalten lo realizado en los incisos 2 y 3."
   ]
  },
  {
   "cell_type": "markdown",
   "metadata": {},
   "source": [
    "<div style=\"text-align: justify\">  Notamos que al modificar el outlier las gráficas se ven mejor, pues al comparar la velocidad con la función identidad, podemos notar que ambas no están tan despegadas como se veía anteriormente. De igual manera, al compara la eficiencia con la máxima eficiencia, obsvervamos que las dos se encuentran en el rectángulo R = [0,400]x[0,1] y visualmente se pueden comparar. Por lo tanto, es importante identificar valores atípicos; en clase con la tabla inicial no veíamos nada raro, sin embargo, cuando el profesor mostró las gráficas pudimos observar un outlier. Así, es de suma importancia visualizar la información, ya que de esta manera podemos inferir un poco sobre la calidad de los datos, que en este caso es de que tenga sentido la comparabilidad.</div>"
   ]
  },
  {
   "cell_type": "markdown",
   "metadata": {},
   "source": [
    "6. Leer el artículo: Francis Anscombe, (1973). \"Graphs in Statistical Analysis\". American Statistician. 27 (1): 17–21. doi:10.1080/00031305.1973.10478966. JSTOR 2682899. (LINK LOCAL). Poner especial atención a la sección: 3. An example."
   ]
  }
 ],
 "metadata": {
  "kernelspec": {
   "display_name": "Python 3",
   "language": "python",
   "name": "python3"
  },
  "language_info": {
   "codemirror_mode": {
    "name": "ipython",
    "version": 3
   },
   "file_extension": ".py",
   "mimetype": "text/x-python",
   "name": "python",
   "nbconvert_exporter": "python",
   "pygments_lexer": "ipython3",
   "version": "3.7.3"
  }
 },
 "nbformat": 4,
 "nbformat_minor": 2
}
